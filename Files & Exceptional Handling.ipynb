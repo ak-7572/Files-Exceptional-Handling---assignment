{
  "cells": [
    {
      "cell_type": "code",
      "source": [
        "# Q1. Discuss the scenarios where multithreading is preferable to multiprocessing and scenarios where multiprocessing is a better choice.\n",
        "\n",
        "\n",
        "# When to Use Multithreading:\n",
        "# 1. I/O-Bound Tasks: If your program spends a lot of time waiting for input/output operations (like reading from a file or network requests), multithreading is great. Threads can continue running while waiting for I/O operations to complete.\n",
        "# 2. If the tasks are small and quick, creating multiple threads is generally more efficient than creating separate processes. Threads share the same memory space, making them lightweight.\n",
        "# 3. Shared Data: If you need to frequently share data between tasks, multithreading allows easier access to shared variables without the need for complex communication between processes.\n",
        "# 4. Responsiveness: In GUI applications, using threads can keep the interface responsive while performing background tasks.\n",
        "\n",
        "\n",
        "# When to Use Multiprocessing:\n",
        "# 1. CPU-Bound Tasks: For tasks that require a lot of computation (like heavy calculations or data processing), multiprocessing is better. Each process can run on a separate CPU core, making full use of available resources.\n",
        "# 2. Isolation: Processes run in their own memory space, so if one crashes, it doesn’t affect the others. This isolation is beneficial for stability in larger applications.\n",
        "# 3. Global Interpreter Lock (GIL): In languages like Python, the GIL can limit the effectiveness of multithreading for CPU-bound tasks. Multiprocessing bypasses this limitation since each process has its own interpreter.\n",
        "# 4. Scalability: If your application might need to scale to use multiple machines or handle heavier loads, multiprocessing can be a better choice for distributing tasks effectively."
      ],
      "metadata": {
        "id": "dnR4QPzXFc1D"
      },
      "execution_count": 11,
      "outputs": []
    },
    {
      "cell_type": "code",
      "source": [
        "# Q2. Describe what a process pool is and how it helps in managing multiple processes efficiently.\n",
        "\n",
        "\n",
        "# A process pool is a collection of pre-created processes that are used to perform tasks. Instead of starting and stopping a new process each time a task needs to be done, a process pool maintains a set of processes ready to work. Here’s how it helps in managing multiple processes efficiently:\n",
        "\n",
        "# Key Benefits of a Process Pool:\n",
        "# 1. Reduced Overhead: Creating a new process can take time and system resources. With a process pool, you create the processes once and reuse them, which saves time and reduces the overhead of starting and stopping processes.\n",
        "# 2. Controlled Resource Use: You can limit the number of processes in the pool. This prevents the system from becoming overwhelmed with too many processes running at once, which can slow everything down.\n",
        "# 3. Task Management: When a task is submitted to the pool, it can be assigned to an available process. This helps in managing tasks more effectively without worrying about which specific process will handle which task.\n",
        "# 4. Improved Performance: By keeping processes alive and ready to work, a process pool can handle tasks more quickly, especially in applications with many short-lived tasks.\n",
        "# 5. Simplified Programming: Using a process pool allows developers to focus on writing the logic for the tasks instead of managing the details of creating and destroying processes."
      ],
      "metadata": {
        "id": "d3crUugOGZfn"
      },
      "execution_count": 12,
      "outputs": []
    },
    {
      "cell_type": "code",
      "source": [
        "# Q3. Explain what multiprocessing is and why it is used in Python programs.\n",
        "\n",
        "\n",
        "# Multiprocessing is a way to run multiple processes simultaneously in a program. Each process has its own memory space and runs independently of others. Here’s why it’s used in Python programs:\n",
        "\n",
        "# Key Reasons for Using Multiprocessing:\n",
        "# 1. Utilizing Multiple CPU Cores: Modern computers often have multiple CPU cores. Multiprocessing allows a Python program to take advantage of this by running different processes on different cores, which can lead to better performance for CPU-intensive tasks.\n",
        "# 2. Bypassing the Global Interpreter Lock (GIL): In Python, the GIL can limit the execution of threads, preventing multiple threads from running Python bytecodes at the same time. Multiprocessing creates separate processes, each with its own Python interpreter, allowing true parallelism.\n",
        "# 3. Improved Performance for Heavy Tasks: For tasks that require a lot of computation, like data analysis or image processing, using multiprocessing can significantly reduce the time it takes to complete these tasks compared to using threads.\n",
        "# 4. Stability and Isolation: Each process runs in its own memory space. If one process crashes, it doesn’t affect the others, making the program more stable overall.\n",
        "# 5. Simplified Code Structure: The multiprocessing module provides easy-to-use tools for creating and managing processes, which can help keep your code organized and manageable."
      ],
      "metadata": {
        "id": "hqqhg1w4G5Tk"
      },
      "execution_count": 13,
      "outputs": []
    },
    {
      "cell_type": "code",
      "source": [
        "# Q4. Write a Python program using multithreading where one thread adds numbers to a list, and another thread removes numbers from the list. Implement a mechanism to avoid race conditions using threading.Lock\n",
        "\n",
        "import threading\n",
        "import time\n",
        "\n",
        "shared_list = []\n",
        "\n",
        "lock = threading.Lock()\n",
        "\n",
        "def add_numbers():\n",
        "    for i in range(10):\n",
        "        time.sleep(0.1)\n",
        "        with lock:\n",
        "            shared_list.append(i)\n",
        "            print(f\"Added: {i}, List: {shared_list}\")\n",
        "\n",
        "def remove_numbers():\n",
        "    for _ in range(10):\n",
        "        time.sleep(0.2)\n",
        "        with lock:\n",
        "            if shared_list:\n",
        "                removed = shared_list.pop(0)\n",
        "                print(f\"Removed: {removed}, List: {shared_list}\")\n",
        "            else:\n",
        "                print(\"List is empty, nothing to remove.\")\n",
        "\n",
        "thread_add = threading.Thread(target=add_numbers)\n",
        "thread_remove = threading.Thread(target=remove_numbers)\n",
        "\n",
        "thread_add.start()\n",
        "thread_remove.start()\n",
        "\n",
        "thread_add.join()\n",
        "thread_remove.join()\n",
        "\n",
        "print(\"Final List:\", shared_list)\n"
      ],
      "metadata": {
        "colab": {
          "base_uri": "https://localhost:8080/"
        },
        "id": "rZ-O6ePPHQnN",
        "outputId": "da132d5c-f60b-4713-fc99-6a12ecad1ef5"
      },
      "execution_count": 14,
      "outputs": [
        {
          "output_type": "stream",
          "name": "stdout",
          "text": [
            "Added: 0, List: [0]\n",
            "Added: 1, List: [0, 1]\n",
            "Removed: 0, List: [1]\n",
            "Added: 2, List: [1, 2]\n",
            "Added: 3, List: [1, 2, 3]\n",
            "Removed: 1, List: [2, 3]\n",
            "Added: 4, List: [2, 3, 4]\n",
            "Added: 5, List: [2, 3, 4, 5]\n",
            "Removed: 2, List: [3, 4, 5]\n",
            "Added: 6, List: [3, 4, 5, 6]\n",
            "Added: 7, List: [3, 4, 5, 6, 7]\n",
            "Removed: 3, List: [4, 5, 6, 7]\n",
            "Added: 8, List: [4, 5, 6, 7, 8]\n",
            "Added: 9, List: [4, 5, 6, 7, 8, 9]\n",
            "Removed: 4, List: [5, 6, 7, 8, 9]\n",
            "Removed: 5, List: [6, 7, 8, 9]\n",
            "Removed: 6, List: [7, 8, 9]\n",
            "Removed: 7, List: [8, 9]\n",
            "Removed: 8, List: [9]\n",
            "Removed: 9, List: []\n",
            "Final List: []\n"
          ]
        }
      ]
    },
    {
      "cell_type": "code",
      "source": [
        "# Q5. Describe the methods and tools available in Python for safely sharing data between threads and processes.\n",
        "\n",
        "# For Threads:\n",
        "# Threading.Lock: A lock prevents multiple threads from accessing a resource at the same time. Only one thread can hold the lock, ensuring safe access to shared data.\n",
        "# Threading.RLock: Similar to Lock, but it allows the same thread to acquire the lock multiple times without causing a deadlock.\n",
        "# Threading.Condition: A condition variable allows threads to wait for certain conditions to be met. It’s useful for signaling between threads.\n",
        "# Threading.Semaphore: A semaphore allows a fixed number of threads to access a resource at the same time. It’s useful when you want to limit the number of concurrent accesses.\n",
        "# Queue.Queue: A thread-safe queue that allows one thread to put items in the queue and another to take items out. It handles the locking automatically.\n",
        "\n",
        "# For Processes:\n",
        "# Multiprocessing.Lock: Similar to threading.Lock, this lock is used to protect shared resources when using multiple processes.\n",
        "# Multiprocessing.Queue: A queue for passing data between processes. It’s safe to use across processes, allowing one process to put data in the queue while another retrieves it.\n",
        "# Multiprocessing.Pipe: A pipe is another way to communicate between processes. It allows two processes to send messages back and forth.\n",
        "# Shared Memory: The multiprocessing module provides shared memory objects like Value and Array, which can be accessed by multiple processes. This allows you to share simple data types and arrays without copying.\n",
        "# Manager Objects: The multiprocessing.Manager creates a server process that holds Python objects, allowing different processes to share data like lists, dictionaries, and more."
      ],
      "metadata": {
        "id": "dZDXxRjpQECP"
      },
      "execution_count": 15,
      "outputs": []
    },
    {
      "cell_type": "code",
      "source": [
        "# Q6. Discuss why it’s crucial to handle exceptions in concurrent programs and the techniques available for doing so.\n",
        "\n",
        "# Why It's Important:\n",
        "# Preventing Crashes: If an exception occurs in one thread or process and is not handled, it can crash the entire program. This can lead to loss of data or incomplete operations.\n",
        "# Maintaining Stability: Concurrent programs often involve multiple threads or processes running at the same time. Proper exception handling helps keep the overall system stable, even if one part encounters an error.\n",
        "# Resource Management: Unhandled exceptions can lead to resources (like files or network connections) being left open. Proper handling ensures that resources are released properly.\n",
        "# Debugging and Logging: Handling exceptions allows you to log errors and gather information about what went wrong, making it easier to debug and improve your code.\n",
        "# Graceful Degradation: With proper exception handling, the program can recover from errors or continue running in a limited capacity instead of crashing entirely.\n",
        "\n",
        "\n",
        "# Techniques for Handling Exceptions:\n",
        "\n",
        "# Try-Except Blocks: Use try and except blocks around code that may raise exceptions. This allows you to catch and handle errors locally within a thread or process.\n",
        "try:\n",
        "except Exception as e:\n",
        "\n",
        "# Thread-Specific Exception Handling: Each thread can have its own exception handling. If a thread raises an exception, it can be caught and handled within that thread without affecting others.\n",
        "\n",
        "# Using Futures: If you use concurrent.futures.ThreadPoolExecutor or ProcessPoolExecutor, you can check for exceptions in completed tasks. You can retrieve exceptions using the result() method.\n",
        "from concurrent.futures import ThreadPoolExecutor\n",
        "def risky_task():\n",
        "with ThreadPoolExecutor() as executor:\n",
        "    future = executor.submit(risky_task)\n",
        "    try:\n",
        "        result = future.result()\n",
        "    except Exception as e:\n",
        "\n",
        "# Logging: Use logging to record exceptions. This helps in monitoring and debugging, especially in production environments.\n",
        "import logging\n",
        "\n",
        "logging.basicConfig(level=logging.ERROR)\n",
        "try:\n",
        "except Exception as e:\n",
        "    logging.error(\"An error occurred\", exc_info=True)\n",
        "\n",
        "# Graceful Shutdown: Implement logic to handle exceptions and allow the program to shut down gracefully, cleaning up resources and notifying users if necessary.\n"
      ],
      "metadata": {
        "id": "rgtmF9YnRQ-U"
      },
      "execution_count": null,
      "outputs": []
    },
    {
      "cell_type": "code",
      "source": [
        "# Q7. Create a program that uses a thread pool to calculate the factorial of numbers from 1 to 10 concurrently. Use concurrent.futures.ThreadPoolExecutor to manage the threads.\n",
        "\n",
        "import concurrent.futures\n",
        "import math\n",
        "\n",
        "def calculate_factorial(n):\n",
        "    return math.factorial(n)\n",
        "\n",
        "def main():\n",
        "    numbers = range(1, 11)\n",
        "\n",
        "    with concurrent.futures.ThreadPoolExecutor() as executor:\n",
        "        futures = {executor.submit(calculate_factorial, num): num for num in numbers}\n",
        "\n",
        "        for future in concurrent.futures.as_completed(futures):\n",
        "            num = futures[future]\n",
        "            try:\n",
        "                result = future.result()\n",
        "                print(f\"Factorial of {num} is {result}\")\n",
        "            except Exception as e:\n",
        "                print(f\"Error calculating factorial of {num}: {e}\")\n",
        "\n",
        "if __name__ == \"__main__\":\n",
        "    main()\n"
      ],
      "metadata": {
        "colab": {
          "base_uri": "https://localhost:8080/"
        },
        "id": "xz_bYqC-SU-T",
        "outputId": "2d69ba85-1685-4f95-96d4-baa50b49149f"
      },
      "execution_count": 16,
      "outputs": [
        {
          "output_type": "stream",
          "name": "stdout",
          "text": [
            "Factorial of 7 is 5040\n",
            "Factorial of 6 is 720\n",
            "Factorial of 3 is 6\n",
            "Factorial of 9 is 362880\n",
            "Factorial of 1 is 1\n",
            "Factorial of 2 is 2\n",
            "Factorial of 4 is 24\n",
            "Factorial of 5 is 120\n",
            "Factorial of 10 is 3628800\n",
            "Factorial of 8 is 40320\n"
          ]
        }
      ]
    },
    {
      "cell_type": "code",
      "source": [
        "# Q8. Create a Python program that uses multiprocessing.Pool to compute the square of numbers from 1 to 10 in parallel. Measure the time taken to perform this computation using a pool of different sizes (e.g., 2, 4, 8 processes)\n",
        "\n",
        "\n",
        "import multiprocessing\n",
        "import time\n",
        "\n",
        "def square(n):\n",
        "    return n * n\n",
        "\n",
        "def compute_squares(pool_size):\n",
        "    numbers = range(1, 11)\n",
        "\n",
        "    with multiprocessing.Pool(processes=pool_size) as pool:\n",
        "        results = pool.map(square, numbers)\n",
        "\n",
        "    return results\n",
        "\n",
        "def main():\n",
        "    pool_sizes = [2, 4, 8]\n",
        "    for size in pool_sizes:\n",
        "        start_time = time.time()\n",
        "        results = compute_squares(size)\n",
        "        end_time = time.time()\n",
        "\n",
        "        print(f\"Pool size: {size}, Results: {results}, Time taken: {end_time - start_time:.4f} seconds\")\n",
        "\n",
        "if __name__ == \"__main__\":\n",
        "    main()\n"
      ],
      "metadata": {
        "colab": {
          "base_uri": "https://localhost:8080/"
        },
        "id": "vh3As70oSu2U",
        "outputId": "d03950aa-2701-4a76-807e-9e16c0d055ad"
      },
      "execution_count": 17,
      "outputs": [
        {
          "output_type": "stream",
          "name": "stdout",
          "text": [
            "Pool size: 2, Results: [1, 4, 9, 16, 25, 36, 49, 64, 81, 100], Time taken: 0.0672 seconds\n",
            "Pool size: 4, Results: [1, 4, 9, 16, 25, 36, 49, 64, 81, 100], Time taken: 0.0473 seconds\n",
            "Pool size: 8, Results: [1, 4, 9, 16, 25, 36, 49, 64, 81, 100], Time taken: 0.0854 seconds\n"
          ]
        }
      ]
    }
  ],
  "metadata": {
    "colab": {
      "provenance": []
    },
    "kernelspec": {
      "display_name": "Python 3",
      "name": "python3"
    },
    "language_info": {
      "name": "python"
    }
  },
  "nbformat": 4,
  "nbformat_minor": 0
}